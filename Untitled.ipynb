{
 "cells": [
  {
   "cell_type": "markdown",
   "id": "2069c1a5",
   "metadata": {},
   "source": [
    "## importing libraries......"
   ]
  },
  {
   "cell_type": "code",
   "execution_count": 4,
   "id": "aaaca6df",
   "metadata": {},
   "outputs": [],
   "source": [
    "import numpy as np\n",
    "import pandas as pd\n",
    "import matplotlib.pyplot as plt\n",
    "import seaborn as sns"
   ]
  },
  {
   "cell_type": "markdown",
   "id": "5e69fdf1",
   "metadata": {},
   "source": [
    "# Eda"
   ]
  },
  {
   "cell_type": "code",
   "execution_count": 5,
   "id": "124baa18",
   "metadata": {},
   "outputs": [],
   "source": [
    "# getting the data....\n",
    "train_df = pd.read_csv(\"train.csv\")\n",
    "test_df = pd.read_csv(\"test.csv\")\n",
    "sub_df = pd.read_csv(\"sample_submission.csv\")"
   ]
  },
  {
   "cell_type": "code",
   "execution_count": 6,
   "id": "c3cf25bf",
   "metadata": {},
   "outputs": [
    {
     "data": {
      "text/html": [
       "<div>\n",
       "<style scoped>\n",
       "    .dataframe tbody tr th:only-of-type {\n",
       "        vertical-align: middle;\n",
       "    }\n",
       "\n",
       "    .dataframe tbody tr th {\n",
       "        vertical-align: top;\n",
       "    }\n",
       "\n",
       "    .dataframe thead th {\n",
       "        text-align: right;\n",
       "    }\n",
       "</style>\n",
       "<table border=\"1\" class=\"dataframe\">\n",
       "  <thead>\n",
       "    <tr style=\"text-align: right;\">\n",
       "      <th></th>\n",
       "      <th>seq_id</th>\n",
       "      <th>protein_sequence</th>\n",
       "      <th>pH</th>\n",
       "      <th>data_source</th>\n",
       "      <th>tm</th>\n",
       "    </tr>\n",
       "  </thead>\n",
       "  <tbody>\n",
       "    <tr>\n",
       "      <th>0</th>\n",
       "      <td>0</td>\n",
       "      <td>AAAAKAAALALLGEAPEVVDIWLPAGWRQPFRVFRLERKGDGVLVG...</td>\n",
       "      <td>7.0</td>\n",
       "      <td>doi.org/10.1038/s41592-020-0801-4</td>\n",
       "      <td>75.7</td>\n",
       "    </tr>\n",
       "    <tr>\n",
       "      <th>1</th>\n",
       "      <td>1</td>\n",
       "      <td>AAADGEPLHNEEERAGAGQVGRSLPQESEEQRTGSRPRRRRDLGSR...</td>\n",
       "      <td>7.0</td>\n",
       "      <td>doi.org/10.1038/s41592-020-0801-4</td>\n",
       "      <td>50.5</td>\n",
       "    </tr>\n",
       "    <tr>\n",
       "      <th>2</th>\n",
       "      <td>2</td>\n",
       "      <td>AAAFSTPRATSYRILSSAGSGSTRADAPQVRRLHTTRDLLAKDYYA...</td>\n",
       "      <td>7.0</td>\n",
       "      <td>doi.org/10.1038/s41592-020-0801-4</td>\n",
       "      <td>40.5</td>\n",
       "    </tr>\n",
       "    <tr>\n",
       "      <th>3</th>\n",
       "      <td>3</td>\n",
       "      <td>AAASGLRTAIPAQPLRHLLQPAPRPCLRPFGLLSVRAGSARRSGLL...</td>\n",
       "      <td>7.0</td>\n",
       "      <td>doi.org/10.1038/s41592-020-0801-4</td>\n",
       "      <td>47.2</td>\n",
       "    </tr>\n",
       "    <tr>\n",
       "      <th>4</th>\n",
       "      <td>4</td>\n",
       "      <td>AAATKSGPRRQSQGASVRTFTPFYFLVEPVDTLSVRGSSVILNCSA...</td>\n",
       "      <td>7.0</td>\n",
       "      <td>doi.org/10.1038/s41592-020-0801-4</td>\n",
       "      <td>49.5</td>\n",
       "    </tr>\n",
       "  </tbody>\n",
       "</table>\n",
       "</div>"
      ],
      "text/plain": [
       "   seq_id                                   protein_sequence   pH  \\\n",
       "0       0  AAAAKAAALALLGEAPEVVDIWLPAGWRQPFRVFRLERKGDGVLVG...  7.0   \n",
       "1       1  AAADGEPLHNEEERAGAGQVGRSLPQESEEQRTGSRPRRRRDLGSR...  7.0   \n",
       "2       2  AAAFSTPRATSYRILSSAGSGSTRADAPQVRRLHTTRDLLAKDYYA...  7.0   \n",
       "3       3  AAASGLRTAIPAQPLRHLLQPAPRPCLRPFGLLSVRAGSARRSGLL...  7.0   \n",
       "4       4  AAATKSGPRRQSQGASVRTFTPFYFLVEPVDTLSVRGSSVILNCSA...  7.0   \n",
       "\n",
       "                         data_source    tm  \n",
       "0  doi.org/10.1038/s41592-020-0801-4  75.7  \n",
       "1  doi.org/10.1038/s41592-020-0801-4  50.5  \n",
       "2  doi.org/10.1038/s41592-020-0801-4  40.5  \n",
       "3  doi.org/10.1038/s41592-020-0801-4  47.2  \n",
       "4  doi.org/10.1038/s41592-020-0801-4  49.5  "
      ]
     },
     "execution_count": 6,
     "metadata": {},
     "output_type": "execute_result"
    }
   ],
   "source": [
    "# viewing the training data......\n",
    "train_df.head()"
   ]
  },
  {
   "cell_type": "code",
   "execution_count": 7,
   "id": "1f2c9654",
   "metadata": {},
   "outputs": [
    {
     "name": "stdout",
     "output_type": "stream",
     "text": [
      "<class 'pandas.core.frame.DataFrame'>\n",
      "RangeIndex: 31390 entries, 0 to 31389\n",
      "Data columns (total 5 columns):\n",
      " #   Column            Non-Null Count  Dtype  \n",
      "---  ------            --------------  -----  \n",
      " 0   seq_id            31390 non-null  int64  \n",
      " 1   protein_sequence  31390 non-null  object \n",
      " 2   pH                31104 non-null  float64\n",
      " 3   data_source       28043 non-null  object \n",
      " 4   tm                31390 non-null  float64\n",
      "dtypes: float64(2), int64(1), object(2)\n",
      "memory usage: 1.2+ MB\n"
     ]
    }
   ],
   "source": [
    "# data info \n",
    "train_df.info()"
   ]
  },
  {
   "cell_type": "code",
   "execution_count": 8,
   "id": "827e898f",
   "metadata": {},
   "outputs": [
    {
     "data": {
      "text/plain": [
       "seq_id                int64\n",
       "protein_sequence     object\n",
       "pH                  float64\n",
       "data_source          object\n",
       "tm                  float64\n",
       "dtype: object"
      ]
     },
     "execution_count": 8,
     "metadata": {},
     "output_type": "execute_result"
    }
   ],
   "source": [
    "# data-types....\n",
    "train_df.dtypes"
   ]
  },
  {
   "cell_type": "code",
   "execution_count": 9,
   "id": "7ccbdce9",
   "metadata": {},
   "outputs": [
    {
     "data": {
      "text/html": [
       "<div>\n",
       "<style scoped>\n",
       "    .dataframe tbody tr th:only-of-type {\n",
       "        vertical-align: middle;\n",
       "    }\n",
       "\n",
       "    .dataframe tbody tr th {\n",
       "        vertical-align: top;\n",
       "    }\n",
       "\n",
       "    .dataframe thead th {\n",
       "        text-align: right;\n",
       "    }\n",
       "</style>\n",
       "<table border=\"1\" class=\"dataframe\">\n",
       "  <thead>\n",
       "    <tr style=\"text-align: right;\">\n",
       "      <th></th>\n",
       "      <th>seq_id</th>\n",
       "      <th>protein_sequence</th>\n",
       "      <th>pH</th>\n",
       "      <th>data_source</th>\n",
       "    </tr>\n",
       "  </thead>\n",
       "  <tbody>\n",
       "    <tr>\n",
       "      <th>0</th>\n",
       "      <td>31390</td>\n",
       "      <td>VPVNPEPDATSVENVAEKTGSGDSQSDPIKADLEVKGQSALPFDVD...</td>\n",
       "      <td>8</td>\n",
       "      <td>Novozymes</td>\n",
       "    </tr>\n",
       "    <tr>\n",
       "      <th>1</th>\n",
       "      <td>31391</td>\n",
       "      <td>VPVNPEPDATSVENVAKKTGSGDSQSDPIKADLEVKGQSALPFDVD...</td>\n",
       "      <td>8</td>\n",
       "      <td>Novozymes</td>\n",
       "    </tr>\n",
       "    <tr>\n",
       "      <th>2</th>\n",
       "      <td>31392</td>\n",
       "      <td>VPVNPEPDATSVENVAKTGSGDSQSDPIKADLEVKGQSALPFDVDC...</td>\n",
       "      <td>8</td>\n",
       "      <td>Novozymes</td>\n",
       "    </tr>\n",
       "    <tr>\n",
       "      <th>3</th>\n",
       "      <td>31393</td>\n",
       "      <td>VPVNPEPDATSVENVALCTGSGDSQSDPIKADLEVKGQSALPFDVD...</td>\n",
       "      <td>8</td>\n",
       "      <td>Novozymes</td>\n",
       "    </tr>\n",
       "    <tr>\n",
       "      <th>4</th>\n",
       "      <td>31394</td>\n",
       "      <td>VPVNPEPDATSVENVALFTGSGDSQSDPIKADLEVKGQSALPFDVD...</td>\n",
       "      <td>8</td>\n",
       "      <td>Novozymes</td>\n",
       "    </tr>\n",
       "  </tbody>\n",
       "</table>\n",
       "</div>"
      ],
      "text/plain": [
       "   seq_id                                   protein_sequence  pH data_source\n",
       "0   31390  VPVNPEPDATSVENVAEKTGSGDSQSDPIKADLEVKGQSALPFDVD...   8   Novozymes\n",
       "1   31391  VPVNPEPDATSVENVAKKTGSGDSQSDPIKADLEVKGQSALPFDVD...   8   Novozymes\n",
       "2   31392  VPVNPEPDATSVENVAKTGSGDSQSDPIKADLEVKGQSALPFDVDC...   8   Novozymes\n",
       "3   31393  VPVNPEPDATSVENVALCTGSGDSQSDPIKADLEVKGQSALPFDVD...   8   Novozymes\n",
       "4   31394  VPVNPEPDATSVENVALFTGSGDSQSDPIKADLEVKGQSALPFDVD...   8   Novozymes"
      ]
     },
     "execution_count": 9,
     "metadata": {},
     "output_type": "execute_result"
    }
   ],
   "source": [
    "# checking the test data...\n",
    "test_df.head()"
   ]
  },
  {
   "cell_type": "code",
   "execution_count": 10,
   "id": "f4f9d5ce",
   "metadata": {},
   "outputs": [
    {
     "data": {
      "text/plain": [
       "seq_id                 0\n",
       "protein_sequence       0\n",
       "pH                   286\n",
       "data_source         3347\n",
       "tm                     0\n",
       "dtype: int64"
      ]
     },
     "execution_count": 10,
     "metadata": {},
     "output_type": "execute_result"
    }
   ],
   "source": [
    "# checking for null values....\n",
    "train_df.isna().sum()"
   ]
  },
  {
   "cell_type": "code",
   "execution_count": 11,
   "id": "03ba3564",
   "metadata": {},
   "outputs": [
    {
     "data": {
      "text/html": [
       "<div>\n",
       "<style scoped>\n",
       "    .dataframe tbody tr th:only-of-type {\n",
       "        vertical-align: middle;\n",
       "    }\n",
       "\n",
       "    .dataframe tbody tr th {\n",
       "        vertical-align: top;\n",
       "    }\n",
       "\n",
       "    .dataframe thead th {\n",
       "        text-align: right;\n",
       "    }\n",
       "</style>\n",
       "<table border=\"1\" class=\"dataframe\">\n",
       "  <thead>\n",
       "    <tr style=\"text-align: right;\">\n",
       "      <th></th>\n",
       "      <th>seq_id</th>\n",
       "      <th>protein_sequence</th>\n",
       "      <th>pH</th>\n",
       "      <th>data_source</th>\n",
       "      <th>tm</th>\n",
       "      <th>sequence_length</th>\n",
       "    </tr>\n",
       "  </thead>\n",
       "  <tbody>\n",
       "    <tr>\n",
       "      <th>0</th>\n",
       "      <td>0</td>\n",
       "      <td>AAAAKAAALALLGEAPEVVDIWLPAGWRQPFRVFRLERKGDGVLVG...</td>\n",
       "      <td>7.0</td>\n",
       "      <td>doi.org/10.1038/s41592-020-0801-4</td>\n",
       "      <td>75.7</td>\n",
       "      <td>341</td>\n",
       "    </tr>\n",
       "    <tr>\n",
       "      <th>1</th>\n",
       "      <td>1</td>\n",
       "      <td>AAADGEPLHNEEERAGAGQVGRSLPQESEEQRTGSRPRRRRDLGSR...</td>\n",
       "      <td>7.0</td>\n",
       "      <td>doi.org/10.1038/s41592-020-0801-4</td>\n",
       "      <td>50.5</td>\n",
       "      <td>286</td>\n",
       "    </tr>\n",
       "    <tr>\n",
       "      <th>2</th>\n",
       "      <td>2</td>\n",
       "      <td>AAAFSTPRATSYRILSSAGSGSTRADAPQVRRLHTTRDLLAKDYYA...</td>\n",
       "      <td>7.0</td>\n",
       "      <td>doi.org/10.1038/s41592-020-0801-4</td>\n",
       "      <td>40.5</td>\n",
       "      <td>497</td>\n",
       "    </tr>\n",
       "    <tr>\n",
       "      <th>3</th>\n",
       "      <td>3</td>\n",
       "      <td>AAASGLRTAIPAQPLRHLLQPAPRPCLRPFGLLSVRAGSARRSGLL...</td>\n",
       "      <td>7.0</td>\n",
       "      <td>doi.org/10.1038/s41592-020-0801-4</td>\n",
       "      <td>47.2</td>\n",
       "      <td>265</td>\n",
       "    </tr>\n",
       "    <tr>\n",
       "      <th>4</th>\n",
       "      <td>4</td>\n",
       "      <td>AAATKSGPRRQSQGASVRTFTPFYFLVEPVDTLSVRGSSVILNCSA...</td>\n",
       "      <td>7.0</td>\n",
       "      <td>doi.org/10.1038/s41592-020-0801-4</td>\n",
       "      <td>49.5</td>\n",
       "      <td>1451</td>\n",
       "    </tr>\n",
       "  </tbody>\n",
       "</table>\n",
       "</div>"
      ],
      "text/plain": [
       "   seq_id                                   protein_sequence   pH  \\\n",
       "0       0  AAAAKAAALALLGEAPEVVDIWLPAGWRQPFRVFRLERKGDGVLVG...  7.0   \n",
       "1       1  AAADGEPLHNEEERAGAGQVGRSLPQESEEQRTGSRPRRRRDLGSR...  7.0   \n",
       "2       2  AAAFSTPRATSYRILSSAGSGSTRADAPQVRRLHTTRDLLAKDYYA...  7.0   \n",
       "3       3  AAASGLRTAIPAQPLRHLLQPAPRPCLRPFGLLSVRAGSARRSGLL...  7.0   \n",
       "4       4  AAATKSGPRRQSQGASVRTFTPFYFLVEPVDTLSVRGSSVILNCSA...  7.0   \n",
       "\n",
       "                         data_source    tm  sequence_length  \n",
       "0  doi.org/10.1038/s41592-020-0801-4  75.7              341  \n",
       "1  doi.org/10.1038/s41592-020-0801-4  50.5              286  \n",
       "2  doi.org/10.1038/s41592-020-0801-4  40.5              497  \n",
       "3  doi.org/10.1038/s41592-020-0801-4  47.2              265  \n",
       "4  doi.org/10.1038/s41592-020-0801-4  49.5             1451  "
      ]
     },
     "execution_count": 11,
     "metadata": {},
     "output_type": "execute_result"
    }
   ],
   "source": [
    "# counting the length of protein_sequence....\n",
    "train_df[\"sequence_length\"] = train_df[\"protein_sequence\"].apply(len)\n",
    "train_df.head()"
   ]
  },
  {
   "cell_type": "code",
   "execution_count": 14,
   "id": "ea557990",
   "metadata": {},
   "outputs": [
    {
     "data": {
      "text/html": [
       "<div>\n",
       "<style scoped>\n",
       "    .dataframe tbody tr th:only-of-type {\n",
       "        vertical-align: middle;\n",
       "    }\n",
       "\n",
       "    .dataframe tbody tr th {\n",
       "        vertical-align: top;\n",
       "    }\n",
       "\n",
       "    .dataframe thead th {\n",
       "        text-align: right;\n",
       "    }\n",
       "</style>\n",
       "<table border=\"1\" class=\"dataframe\">\n",
       "  <thead>\n",
       "    <tr style=\"text-align: right;\">\n",
       "      <th></th>\n",
       "      <th>seq_id</th>\n",
       "      <th>protein_sequence</th>\n",
       "      <th>pH</th>\n",
       "      <th>data_source</th>\n",
       "      <th>tm</th>\n",
       "      <th>sequence_length</th>\n",
       "    </tr>\n",
       "  </thead>\n",
       "  <tbody>\n",
       "    <tr>\n",
       "      <th>30277</th>\n",
       "      <td>30277</td>\n",
       "      <td>RPAVT</td>\n",
       "      <td>7.0</td>\n",
       "      <td>doi.org/10.1038/s41592-020-0801-4</td>\n",
       "      <td>50.4</td>\n",
       "      <td>5</td>\n",
       "    </tr>\n",
       "    <tr>\n",
       "      <th>30284</th>\n",
       "      <td>30284</td>\n",
       "      <td>RPGSI</td>\n",
       "      <td>7.0</td>\n",
       "      <td>doi.org/10.1038/s41592-020-0801-4</td>\n",
       "      <td>49.2</td>\n",
       "      <td>5</td>\n",
       "    </tr>\n",
       "  </tbody>\n",
       "</table>\n",
       "</div>"
      ],
      "text/plain": [
       "       seq_id protein_sequence   pH                        data_source    tm  \\\n",
       "30277   30277            RPAVT  7.0  doi.org/10.1038/s41592-020-0801-4  50.4   \n",
       "30284   30284            RPGSI  7.0  doi.org/10.1038/s41592-020-0801-4  49.2   \n",
       "\n",
       "       sequence_length  \n",
       "30277                5  \n",
       "30284                5  "
      ]
     },
     "execution_count": 14,
     "metadata": {},
     "output_type": "execute_result"
    }
   ],
   "source": [
    "# getting the min sequence protein \n",
    "train_df[train_df[\"sequence_length\"] == min(train_df[\"sequence_length\"])]"
   ]
  },
  {
   "cell_type": "code",
   "execution_count": 15,
   "id": "cd348533",
   "metadata": {},
   "outputs": [
    {
     "data": {
      "text/html": [
       "<div>\n",
       "<style scoped>\n",
       "    .dataframe tbody tr th:only-of-type {\n",
       "        vertical-align: middle;\n",
       "    }\n",
       "\n",
       "    .dataframe tbody tr th {\n",
       "        vertical-align: top;\n",
       "    }\n",
       "\n",
       "    .dataframe thead th {\n",
       "        text-align: right;\n",
       "    }\n",
       "</style>\n",
       "<table border=\"1\" class=\"dataframe\">\n",
       "  <thead>\n",
       "    <tr style=\"text-align: right;\">\n",
       "      <th></th>\n",
       "      <th>seq_id</th>\n",
       "      <th>protein_sequence</th>\n",
       "      <th>pH</th>\n",
       "      <th>data_source</th>\n",
       "      <th>tm</th>\n",
       "      <th>sequence_length</th>\n",
       "    </tr>\n",
       "  </thead>\n",
       "  <tbody>\n",
       "    <tr>\n",
       "      <th>28079</th>\n",
       "      <td>28079</td>\n",
       "      <td>MTTQAPTFTQPLQSVVVLEGSTATFEAHISGFPVPEVSWFRDGQVI...</td>\n",
       "      <td>7.4</td>\n",
       "      <td>NaN</td>\n",
       "      <td>25.0</td>\n",
       "      <td>32767</td>\n",
       "    </tr>\n",
       "    <tr>\n",
       "      <th>28080</th>\n",
       "      <td>28080</td>\n",
       "      <td>MTTQAPTFTQPLQSVVVLEGSTATFEAHISGFPVPEVSWFRDGQVI...</td>\n",
       "      <td>7.4</td>\n",
       "      <td>NaN</td>\n",
       "      <td>25.0</td>\n",
       "      <td>32767</td>\n",
       "    </tr>\n",
       "    <tr>\n",
       "      <th>28081</th>\n",
       "      <td>28081</td>\n",
       "      <td>MTTQAPTFTQPLQSVVVLEGSTATFEAHISGFPVPEVSWFRDGQVI...</td>\n",
       "      <td>7.4</td>\n",
       "      <td>NaN</td>\n",
       "      <td>25.0</td>\n",
       "      <td>32767</td>\n",
       "    </tr>\n",
       "    <tr>\n",
       "      <th>28082</th>\n",
       "      <td>28082</td>\n",
       "      <td>MTTQAPTFTQPLQSVVVLEGSTATFEAHISGFPVPEVSWFRDGQVI...</td>\n",
       "      <td>7.4</td>\n",
       "      <td>NaN</td>\n",
       "      <td>25.0</td>\n",
       "      <td>32767</td>\n",
       "    </tr>\n",
       "    <tr>\n",
       "      <th>28083</th>\n",
       "      <td>28083</td>\n",
       "      <td>MTTQAPTFTQPLQSVVVLEGSTATFEAHISGFPVPEVSWFRDGQVI...</td>\n",
       "      <td>7.4</td>\n",
       "      <td>NaN</td>\n",
       "      <td>25.0</td>\n",
       "      <td>32767</td>\n",
       "    </tr>\n",
       "    <tr>\n",
       "      <th>28084</th>\n",
       "      <td>28084</td>\n",
       "      <td>MTTQAPTFTQPLQSVVVLEGSTATFEAHISGFPVPEVSWFRDGQVI...</td>\n",
       "      <td>7.4</td>\n",
       "      <td>NaN</td>\n",
       "      <td>25.0</td>\n",
       "      <td>32767</td>\n",
       "    </tr>\n",
       "    <tr>\n",
       "      <th>28085</th>\n",
       "      <td>28085</td>\n",
       "      <td>MTTQAPTFTQPLQSVVVLEGSTATFEAHISGFPVPEVSWFRDGQVI...</td>\n",
       "      <td>7.3</td>\n",
       "      <td>NaN</td>\n",
       "      <td>25.0</td>\n",
       "      <td>32767</td>\n",
       "    </tr>\n",
       "  </tbody>\n",
       "</table>\n",
       "</div>"
      ],
      "text/plain": [
       "       seq_id                                   protein_sequence   pH  \\\n",
       "28079   28079  MTTQAPTFTQPLQSVVVLEGSTATFEAHISGFPVPEVSWFRDGQVI...  7.4   \n",
       "28080   28080  MTTQAPTFTQPLQSVVVLEGSTATFEAHISGFPVPEVSWFRDGQVI...  7.4   \n",
       "28081   28081  MTTQAPTFTQPLQSVVVLEGSTATFEAHISGFPVPEVSWFRDGQVI...  7.4   \n",
       "28082   28082  MTTQAPTFTQPLQSVVVLEGSTATFEAHISGFPVPEVSWFRDGQVI...  7.4   \n",
       "28083   28083  MTTQAPTFTQPLQSVVVLEGSTATFEAHISGFPVPEVSWFRDGQVI...  7.4   \n",
       "28084   28084  MTTQAPTFTQPLQSVVVLEGSTATFEAHISGFPVPEVSWFRDGQVI...  7.4   \n",
       "28085   28085  MTTQAPTFTQPLQSVVVLEGSTATFEAHISGFPVPEVSWFRDGQVI...  7.3   \n",
       "\n",
       "      data_source    tm  sequence_length  \n",
       "28079         NaN  25.0            32767  \n",
       "28080         NaN  25.0            32767  \n",
       "28081         NaN  25.0            32767  \n",
       "28082         NaN  25.0            32767  \n",
       "28083         NaN  25.0            32767  \n",
       "28084         NaN  25.0            32767  \n",
       "28085         NaN  25.0            32767  "
      ]
     },
     "execution_count": 15,
     "metadata": {},
     "output_type": "execute_result"
    }
   ],
   "source": [
    "# getting the max sequence protein \n",
    "train_df[train_df[\"sequence_length\"] == max(train_df[\"sequence_length\"])]"
   ]
  },
  {
   "cell_type": "code",
   "execution_count": 19,
   "id": "f06f13ce",
   "metadata": {},
   "outputs": [
    {
     "data": {
      "text/plain": [
       "array(['AAAAKAAALALLGEAPEVVDIWLPAGWRQPFRVFRLERKGDGVLVGMIKDAGDDPDVTHGAEIQAFVRFASEDRLEGGEGVGVVTKPGLGVPVGEPAINPVPRRMIWEAVREVTERPLAVTIAIPGGEELAKKTLNPRLGILGGLSVLGTTGVVKPYSTSAFRMSVVQAVGVARANGLLEIAATTGGKSERFAQRLLPHLPEMAFIEMGDFVGDVLRAARKVGVEVVRVVGMIGKISKMADGKTMTHAAGGEVNLSLLLSLLKEAGASPKALKEAEGAATARRFLEIALEEGLELFFVNLVRLAQEKLQAYIGERPFVSVALTDFDEGRCLAAWPDREVYR',\n",
       "       'AAADGEPLHNEEERAGAGQVGRSLPQESEEQRTGSRPRRRRDLGSRLQAQRRAQRVAWEDGDENVGQTVIPAQEEEGIEKPAEVHPTGKIGAKKLRKLEEKQARKAQREAEEAEREERKRLESQREAEWKKEEERLRLKEEQKEEEERKAQEEQARREHEEYLKLKEAFVVEEEGVSETMTEEQSHSFLTEFINYIKKSKVVLLEDLAFQMGLRTQDAINRIQDLLTEGTLTGVIDDRGKFIYITPEELAAVANFIRQRGRVSITELAQASNSLISWGQDLPAQAS',\n",
       "       'AAAFSTPRATSYRILSSAGSGSTRADAPQVRRLHTTRDLLAKDYYATLGVAKNANGKDIKKAYYQLAKKYHPDTNKEDPDAGRKFQEVSEAYEVLSDEQKRREYDTYGQTAENIGRQGGGFPGGGAGGFGPEGFSQSWQFRSSIDPEELFRKIFGEGNFRTNSFDDFADSKFGFGQAQEMVMDLTFAQAARGVNKDVNVNVVDQCPKCAGTKCEPGTKPGRCQYCNGTGFETVSTGPFVMRSTCRYCQGTRQHIKYPCSECEGKGRTVQRRKVTVPVPAGIENGQTVRMQVGSKELFVTFRVERSDYFRREGADVHTDAAISLAQAVLGGTVRVQGVYEDQWINVEPGTSSHHKIMLRGKGLKRVNAHGHGDHYVHVKITVPSAKKLDKKRLALIEAYAELEEDTPGQIHGIANRKDGSKQATAGASEEPGAGAAAKASAAAAGSGASKPGPGAEESEGKDQWTDNKKTKAKEGGGSGSGQGDGGGGGFISKIKSMF',\n",
       "       ...,\n",
       "       'YYQRTLGAELLYKISFGEMPKSAQDSAENCPSGMQFPDTAIAHANVRIAGSDIMMSDAMPSGKASYSGFTLVLDSQQVEEGKRWFDNLAANGKIEMAWQETFWAHGFGKVTDKFGVPWMINVVKQQPT',\n",
       "       'YYSFSDNITTVFLSRQAIDDDHSLSLGTISDVVESENGVVAADDARCSEIGASVLRSGGHAVDAAVAITLCVGVVNPMSSGIGGGSFLIVSSQKDSKAEAFDMRETAPLAASKDMYKNDASAKSLGALSMGVPGEIAGLYEAWKRYGRLPWKPLFEPAIKLARDGFVVYPYLGKAISTKVAMILKDPGMRSVFSRNGQVLKTGETCYNPELAQSLETISEQGPGAFYNGTVGEKLVKDVKKAGGIITMDDLRSYKVRVTDAMSVDVMGYTVHGMPPPSGGTVGFSMVMNILDSYSNLYTASGRELGLHRLIEAMKHMFAARMDLGDPEFVNVTNSMNQMLSKAHAEEIQKRIFDNTTFPPEYYMNRWSQLRDQGTSHFCVVDADRNSVSMTSTVNYRFGAGVLSPSTGIVLNNEMDDFSTPTEITPDMLPPAPTNFIEPNKRPLSSMTPLVITKDGEFVAALGGAGGMHIIPAVLQVFLNCFVLNMKPKEAVESARIYHRLIPNVVSYENFTTINGDHIGVSEDTKMFLAERGHELKELSGGAIVQLIVQSFKEEKEEEMIIEIGRKIGKKSKPLKGLLTAVSDPRKDGKPAA',\n",
       "       'YYVPDEYWQSLEVAHKLTFGYGYLTWEWVQGIRSYVYPLLIAGLYKILALLQLDSAHLLVVLPRIVQALLSAYSDYRFFVWTGKRKWALFLILVPWFWFYTGSRTLANTLEASLTTIALSYFPWYGESTAYLWPAAICCFLRPTAAVIWLPLSLYHLRRSRQNVLELILKRFVLIGLLVAGLGIAIDTYWHGQLIVTPYEFLKYNIFNNIGSFYGSHPWHWYFSVGLPTVLGINTLPFIFGVMETVKKSEKYPVSKQLLITIFLTLVVLSAVEHKEFRFVSPLLPLCLYVITDALSRWSIRASSTMLWTTALVILVGNVMPAWYLSTVHQKGPIELMPKLREIAREYRDEREHQANILFLMPCHSTPYYSHIHQNVTMRFLTCEPNLEKKEQYKDEADRFFEDPVHWINSHIPMHPLTALPTHVVLFDPLAENISVFLRNYRLLHRIEHAEVTRLEGSQALVDQWSEALGAQSPNLASLLQNRQSRTGRSILVYQRLKKGEENAFNRGPDSGQHEPDVHDHPPLEDLVLANENENLF'],\n",
       "      dtype=object)"
      ]
     },
     "execution_count": 19,
     "metadata": {},
     "output_type": "execute_result"
    }
   ],
   "source": [
    "# getting the unique protein sequence...\n",
    "train_df[\"protein_sequence\"].unique()"
   ]
  },
  {
   "cell_type": "code",
   "execution_count": 35,
   "id": "affb2000",
   "metadata": {},
   "outputs": [
    {
     "data": {
      "text/plain": [
       "doi.org/10.1038/s41592-020-0801-4    24525\n",
       "10.1021/acscatal.9b05223               211\n",
       "10.1016/j.bpc.2006.10.014              185\n",
       "10.7554/eLife.54639                    151\n",
       "10.1007/s00253-018-8872-1               84\n",
       "                                     ...  \n",
       "10.1074/jbc.M001132200                   1\n",
       "10.1021/bi9530090                        1\n",
       "10.1016/j.ijbiomac.2008.12.016           1\n",
       "10.1016/j.jmb.2004.02.073                1\n",
       "10.1021/bi00219a037                      1\n",
       "Name: data_source, Length: 324, dtype: int64"
      ]
     },
     "execution_count": 35,
     "metadata": {},
     "output_type": "execute_result"
    }
   ],
   "source": [
    "# checking the data source...\n",
    "train_df[\"data_source\"].value_counts()"
   ]
  },
  {
   "cell_type": "code",
   "execution_count": 37,
   "id": "f8bc7eee",
   "metadata": {},
   "outputs": [
    {
     "data": {
      "text/plain": [
       "7.00     26462\n",
       "7.50       576\n",
       "8.00       502\n",
       "3.00       288\n",
       "2.70       274\n",
       "         ...  \n",
       "3.14         1\n",
       "2.53         1\n",
       "2.81         1\n",
       "39.00        1\n",
       "10.30        1\n",
       "Name: pH, Length: 115, dtype: int64"
      ]
     },
     "execution_count": 37,
     "metadata": {},
     "output_type": "execute_result"
    }
   ],
   "source": [
    "# checking the ph value....\n",
    "train_df[\"pH\"].value_counts()"
   ]
  },
  {
   "cell_type": "code",
   "execution_count": 38,
   "id": "7af3bc1c",
   "metadata": {},
   "outputs": [
    {
     "data": {
      "text/plain": [
       "6.892339248971194"
      ]
     },
     "execution_count": 38,
     "metadata": {},
     "output_type": "execute_result"
    }
   ],
   "source": [
    "np.mean(train_df[\"pH\"])"
   ]
  },
  {
   "cell_type": "code",
   "execution_count": 44,
   "id": "663dce90",
   "metadata": {},
   "outputs": [
    {
     "data": {
      "text/plain": [
       "25.0     1472\n",
       "20.0      561\n",
       "50.0      200\n",
       "45.0      178\n",
       "49.7      176\n",
       "         ... \n",
       "98.1        1\n",
       "97.6        1\n",
       "92.7        1\n",
       "1.2         1\n",
       "103.0       1\n",
       "Name: tm, Length: 770, dtype: int64"
      ]
     },
     "execution_count": 44,
     "metadata": {},
     "output_type": "execute_result"
    }
   ],
   "source": [
    "# checking the target column....\n",
    "train_df[\"tm\"].value_counts()"
   ]
  },
  {
   "cell_type": "code",
   "execution_count": 46,
   "id": "fc18a9fa",
   "metadata": {},
   "outputs": [
    {
     "data": {
      "text/plain": [
       "<Figure size 720x720 with 0 Axes>"
      ]
     },
     "metadata": {},
     "output_type": "display_data"
    },
    {
     "data": {
      "image/png": "[encoded data removed]",
      "text/plain": [
       "<Figure size 1440x360 with 1 Axes>"
      ]
     },
     "metadata": {
      "needs_background": "light"
     },
     "output_type": "display_data"
    }
   ],
   "source": [
    "# plotting the length of protein.....\n",
    "plt.figure(figsize=(10,10))\n",
    "sns.displot(data=train_df,x=\"sequence_length\",\n",
    "                 kind = 'kde', fill = True,  aspect =4 , palette = \"viridis\");"
   ]
  },
  {
   "cell_type": "code",
   "execution_count": null,
   "id": "29f39c5f",
   "metadata": {},
   "outputs": [],
   "source": []
  }
 ],
 "metadata": {
  "kernelspec": {
   "display_name": "Python 3 (ipykernel)",
   "language": "python",
   "name": "python3"
  },
  "language_info": {
   "codemirror_mode": {
    "name": "ipython",
    "version": 3
   },
   "file_extension": ".py",
   "mimetype": "text/x-python",
   "name": "python",
   "nbconvert_exporter": "python",
   "pygments_lexer": "ipython3",
   "version": "3.8.13"
  }
 },
 "nbformat": 4,
 "nbformat_minor": 5
}
